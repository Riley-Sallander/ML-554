{
  "cells": [
    {
      "cell_type": "markdown",
      "metadata": {
        "id": "QWpPySbzYEIV"
      },
      "source": [
        "# Titanic Wrangling\n",
        "\n",
        "In this practice activity you'll continue to work with the titanic dataset in ways that flex what you've learned about both data wrangling and data visualization."
      ]
    },
    {
      "cell_type": "code",
      "execution_count": 26,
      "metadata": {
        "id": "Nr6w8bVCf_NM"
      },
      "outputs": [
        {
          "name": "stderr",
          "output_type": "stream",
          "text": [
            "/opt/anaconda3/lib/python3.12/pprint.py:632: FutureWarning: Using repr(plot) to draw and show the plot figure is deprecated and will be removed in a future version. Use plot.show().\n"
          ]
        }
      ],
      "source": [
        "import pandas as pd \n",
        "\n",
        "data_dir = \"https://dlsun.github.io/pods/data/\"\n",
        "df_titanic = pd.read_csv(data_dir + \"titanic.csv\")"
      ]
    },
    {
      "cell_type": "markdown",
      "metadata": {
        "id": "9UgZD6VFYa96"
      },
      "source": [
        "## 1. Filter the data to include passengers only. Calculate the joint distribution (cross-tab) between a passenger's class and where they embarked."
      ]
    },
    {
      "cell_type": "code",
      "execution_count": 27,
      "metadata": {
        "id": "TBthOzDLgBif"
      },
      "outputs": [
        {
          "name": "stdout",
          "output_type": "stream",
          "text": [
            "embarked         B         C         Q         S\n",
            "class                                           \n",
            "1st       0.002278  0.108580  0.002278  0.132878\n",
            "2nd       0.004556  0.019742  0.005315  0.186029\n",
            "3rd       0.000000  0.077449  0.085801  0.375095\n",
            "embarked         B         C         Q         S\n",
            "class                                           \n",
            "1st       0.002278  0.108580  0.002278  0.132878\n",
            "2nd       0.004556  0.019742  0.005315  0.186029\n",
            "3rd       0.000000  0.077449  0.085801  0.375095\n"
          ]
        },
        {
          "name": "stderr",
          "output_type": "stream",
          "text": [
            "/opt/anaconda3/lib/python3.12/pprint.py:632: FutureWarning: Using repr(plot) to draw and show the plot figure is deprecated and will be removed in a future version. Use plot.show().\n"
          ]
        }
      ],
      "source": [
        "\n",
        "\n",
        "pd.get_dummies(df_titanic[\"embarked\"])\n",
        "\n",
        "df_titanic[\"type\"] = df_titanic[\"class\"].map({\n",
        "    \"1st\": \"passenger\",\n",
        "    \"2nd\": \"passenger\",\n",
        "    \"3rd\": \"passenger\",\n",
        "    \"victualling crew\": \"crew\",\n",
        "    \"engineering crew\": \"crew\",\n",
        "    \"deck crew\": \"crew\"\n",
        "})\n",
        "df_titanic = df_titanic[df_titanic[\"type\"] == \"passenger\"]\n",
        "\n",
        "\n",
        "jointDist = pd.crosstab(df_titanic[\"class\"],df_titanic[\"embarked\"],normalize=True)\n",
        "\n",
        "print(jointDist)\n",
        "\n"
      ]
    },
    {
      "cell_type": "markdown",
      "metadata": {
        "id": "3CRaJLSyYm4d"
      },
      "source": [
        "## 2. Using the joint distribution that calculated above, calculate the following:\n",
        "\n",
        "* the conditional distribution of their class given where they embarked\n",
        "* the conditional distribution of where they embarked given their class\n",
        "\n",
        "Use the conditional distributions that you calculate to answer the following quesitons:\n",
        "\n",
        "* What proportion of 3rd class passengers embarked at Southampton?\n",
        "* What proportion of Southampton passengers were in 3rd class?"
      ]
    },
    {
      "cell_type": "code",
      "execution_count": 28,
      "metadata": {
        "id": "TfTGidLIv1k0"
      },
      "outputs": [
        {
          "name": "stdout",
          "output_type": "stream",
          "text": [
            "embarked         B         C         Q         S\n",
            "class                                           \n",
            "1st       0.333333  0.527675  0.024390  0.191466\n",
            "2nd       0.666667  0.095941  0.056911  0.268053\n",
            "3rd       0.000000  0.376384  0.918699  0.540481\n",
            "embarked         B         C         Q         S\n",
            "class                                           \n",
            "1st       0.009259  0.441358  0.009259  0.540123\n",
            "2nd       0.021127  0.091549  0.024648  0.862676\n",
            "3rd       0.000000  0.143865  0.159379  0.696756\n",
            "embarked         B         C         Q         S\n",
            "class                                           \n",
            "1st       0.333333  0.527675  0.024390  0.191466\n",
            "2nd       0.666667  0.095941  0.056911  0.268053\n",
            "3rd       0.000000  0.376384  0.918699  0.540481\n",
            "embarked         B         C         Q         S\n",
            "class                                           \n",
            "1st       0.009259  0.441358  0.009259  0.540123\n",
            "2nd       0.021127  0.091549  0.024648  0.862676\n",
            "3rd       0.000000  0.143865  0.159379  0.696756\n"
          ]
        },
        {
          "name": "stderr",
          "output_type": "stream",
          "text": [
            "/opt/anaconda3/lib/python3.12/pprint.py:632: FutureWarning: Using repr(plot) to draw and show the plot figure is deprecated and will be removed in a future version. Use plot.show().\n"
          ]
        }
      ],
      "source": [
        "condDist1 = pd.crosstab(df_titanic[\"class\"], df_titanic[\"embarked\"], normalize='columns')\n",
        "\n",
        "print(condDist1)\n",
        "\n",
        "condDist2 = pd.crosstab(df_titanic[\"class\"], df_titanic[\"embarked\"], normalize='index')\n",
        "\n",
        "print(condDist2)\n"
      ]
    },
    {
      "cell_type": "markdown",
      "metadata": {},
      "source": [
        "69.7% of passangers that were 3rd class embarked from Southampton\n",
        "\n",
        "Southampton had 54% of their passangers embarking be in the 3rd class"
      ]
    },
    {
      "cell_type": "markdown",
      "metadata": {
        "id": "pGUQeeh1ZRfz"
      },
      "source": [
        "## 3. Make a visualization showing the distribution of a passenger's class, given where they embarked.\n",
        "\n",
        "Discuss the pros and cons of using this visualization versus the distributions you calculated before, to answer the previous questions."
      ]
    },
    {
      "cell_type": "code",
      "execution_count": 30,
      "metadata": {
        "id": "PZ18WKJWA-xZ"
      },
      "outputs": [
        {
          "data": {
            "image/png": "[encoded data removed]",
            "text/plain": [
              "<Figure size 640x480 with 1 Axes>"
            ]
          },
          "metadata": {},
          "output_type": "display_data"
        },
        {
          "name": "stderr",
          "output_type": "stream",
          "text": [
            "/opt/anaconda3/lib/python3.12/pprint.py:632: FutureWarning: Using repr(plot) to draw and show the plot figure is deprecated and will be removed in a future version. Use plot.show().\n"
          ]
        }
      ],
      "source": [
        "import matplotlib.pyplot as plt\n",
        "\n",
        "# Plotting the conditional distribution of class given where they embarked\n",
        "condDist1.plot(kind='bar', stacked=True)\n",
        "\n",
        "# Adding labels and title\n",
        "plt.title(\"Distribution of Passenger Class Given Embarkation Port\")\n",
        "plt.xlabel(\"Embarkation Port\")\n",
        "plt.ylabel(\"Proportion\")\n",
        "plt.xticks(rotation=0)\n",
        "plt.legend(title=\"Class\")\n",
        "\n",
        "# Show the plot\n",
        "plt.tight_layout()\n",
        "plt.show()\n"
      ]
    }
  ],
  "metadata": {
    "colab": {
      "provenance": []
    },
    "kernelspec": {
      "display_name": "Python 3",
      "name": "python3"
    },
    "language_info": {
      "name": "python"
    }
  },
  "nbformat": 4,
  "nbformat_minor": 0
}
