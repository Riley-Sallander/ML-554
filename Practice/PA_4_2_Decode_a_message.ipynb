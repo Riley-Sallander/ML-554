{
  "cells": [
    {
      "cell_type": "markdown",
      "metadata": {
        "id": "kPj76X_FP2uq"
      },
      "source": [
        "## Setup\n",
        "\n",
        "Run the code below to load the scrambled message:\n"
      ]
    },
    {
      "cell_type": "code",
      "execution_count": 1,
      "metadata": {
        "id": "YwkYMR2qP2ur"
      },
      "outputs": [],
      "source": [
        "import pandas as pd\n",
        "import re\n",
        "message = pd.read_csv(\"https://www.dropbox.com/s/lgpn3vmksk3ssdo/scrambled_message.txt?dl=1\")['Word']"
      ]
    },
    {
      "cell_type": "code",
      "execution_count": null,
      "metadata": {
        "colab": {
          "base_uri": "https://localhost:8080/"
        },
        "id": "rqykaCOxF1Z9",
        "outputId": "78651d97-c46b-4c24-b5e9-f67ae6a0ea1c"
      },
      "outputs": [
        {
          "data": {
            "text/plain": [
              "0                    Koila!\n",
              "1                     In   \n",
              "2                     kiew,\n",
              "3                         a\n",
              "4                 humble   \n",
              "               ...         \n",
              "122                     you\n",
              "123                 mabugh.\n",
              "124              ughhh?call\n",
              "125        meugh.ughhhh!   \n",
              "126                      K.\n",
              "Name: Word, Length: 127, dtype: object"
            ]
          },
          "execution_count": 2,
          "metadata": {},
          "output_type": "execute_result"
        }
      ],
      "source": [
        "message"
      ]
    },
    {
      "cell_type": "markdown",
      "metadata": {
        "id": "cI8ZE3LAP2us"
      },
      "source": [
        "In this activity, a \"word\" refers to any set of characters with no white space, even though they are not truly an English word.  That is, even though many of elements of the scrambled message vector are nonsense, and some have punctuation, you can consider each element to be a \"word\".\n",
        "\n",
        "Beware!  The object named `message` is a **pandas Series** of strings.  If you want to use functions that expect a string, rather than a series, remember `.apply()` and `lambda` functions.\n",
        "\n"
      ]
    },
    {
      "cell_type": "markdown",
      "metadata": {
        "id": "dYISAD8uQLAy"
      },
      "source": [
        "\n",
        "## Warm-up exercises\n",
        "\n",
        "1. How many characters are in the scrambled message?\n",
        "2. How many of these characters are white space?\n",
        "3. How many words are in the scrambled message?\n",
        "4. Show all the punctuation marks in the scrambled message.\n",
        "5. Print out, in all capitals, the longest word in the scrambled message.\n",
        "6. Print out every piece of a word that starts with the letter \"m\" and ends with the letter \"z\" in the scrambled message."
      ]
    },
    {
      "cell_type": "code",
      "execution_count": 2,
      "metadata": {
        "id": "6vB1tbjiQNvE"
      },
      "outputs": [
        {
          "data": {
            "text/plain": [
              "(2544, 1778, 127, {'!', ',', '.', ';', '?'}, 'KAUDEVILLIANUGH?AOGHAJDBN', [])"
            ]
          },
          "execution_count": null,
          "metadata": {},
          "output_type": "execute_result"
        }
      ],
      "source": [
        "import pandas as pd\n",
        "import string\n",
        "\n",
        "# Load the scrambled message\n",
        "message = pd.read_csv(\"https://www.dropbox.com/s/lgpn3vmksk3ssdo/scrambled_message.txt?dl=1\")['Word']\n",
        "\n",
        "# 1. How many characters are in the scrambled message?\n",
        "total_characters = message.apply(len).sum()\n",
        "\n",
        "# 2. How many of these characters are white space?\n",
        "total_white_space = message.apply(lambda x: x.count(' ')).sum()\n",
        "\n",
        "# 3. How many words are in the scrambled message?\n",
        "total_words = message.size\n",
        "\n",
        "# 4. Show all the punctuation marks in the scrambled message.\n",
        "punctuation_marks = set(message.apply(lambda x: ''.join([char for char in x if char in string.punctuation])).sum())\n",
        "\n",
        "# 5. Print out, in all capitals, the longest word in the scrambled message.\n",
        "longest_word = message.apply(lambda x: x.upper()).loc[message.apply(len).idxmax()]\n",
        "\n",
        "# 6. Print out every piece of a word that starts with the letter \"m\" and ends with the letter \"z\".\n",
        "words_m_to_z = message.apply(lambda x: x if x.startswith('m') and x.endswith('z') else None).dropna()\n",
        "\n",
        "(total_characters, white_space_characters, total_words, punctuation_marks, longest_word, m_to_z_words)\n"
      ]
    },
    {
      "cell_type": "markdown",
      "metadata": {
        "id": "l3iJnnCJQOh7"
      },
      "source": [
        "\n",
        "\n",
        "## Decode a message\n",
        "\n",
        "Complete the following steps to decode the message.  \n",
        "\n",
        "1. Remove any spaces before or after each word.\n",
        "2. Any time you see the word \"ugh\", with any number of h's, followed by a punctuation mark, delete this.\n",
        "3. No word should be longer than 16 characters. Drop all extra characters beyond 13 off the end of each word.\n",
        "4. Replace all instances of exactly 2 a's with exactly 2 e's.\n",
        "5. Replace all z's with t's.\n",
        "6. Every word that ends in b, change that to a y.  *Hint: look out for punctuation!*\n",
        "7. Every word that starts with k, change that to a v.  *Hint: look out for capitalization!*\n",
        "8. Use `.join()` to recombine all your words into a message.\n",
        "9. Find the movie this quote is from."
      ]
    },
    {
      "cell_type": "code",
      "execution_count": 3,
      "metadata": {
        "id": "RRfjUzxMQQ5j"
      },
      "outputs": [
        {
          "name": "stdout",
          "output_type": "stream",
          "text": [
            "Decoded Message: voila! In view, a humble vaudevillianugh? veteran, cast vicariously as both victim and villain by the vicissitudes of fate. This visage, no mereugh? veneer ofugh? vanity, is a vestige of the vox populi now vacant, vanished.ugh? However, this valorous visitation of a bygone vexation stands vivified, and hasugh. vowed to vanquish these venalugh? and virulent vermin, van guarding viceugh. and vouchsafingugh? the violently vicious and voraciousugh? violation of volition.ugh? Theugh. only verdict isugh. vengeance; a vendetta, held as a votive not in vain, forugh. the value andugh? veracity ofugh. such shall one dabugh. vindicate the vigilant and the virtuous. verily this vichyssoise of verbiage veers mostugh? verbose, so let me simply add that its my very good honourugh. to meet you and you mabugh. call meugh. v.\n",
            "Decoded Message: voila! In view, a humble vaudevillianugh? veteran, cast vicariously as both victim and villain by the vicissitudes of fate. This visage, no mereugh? veneer ofugh? vanity, is a vestige of the vox populi now vacant, vanished.ugh? However, this valorous visitation of a bygone vexation stands vivified, and hasugh. vowed to vanquish these venalugh? and virulent vermin, van guarding viceugh. and vouchsafingugh? the violently vicious and voraciousugh? violation of volition.ugh? Theugh. only verdict isugh. vengeance; a vendetta, held as a votive not in vain, forugh. the value andugh? veracity ofugh. such shall one dabugh. vindicate the vigilant and the virtuous. verily this vichyssoise of verbiage veers mostugh? verbose, so let me simply add that its my very good honourugh. to meet you and you mabugh. call meugh. v.\n"
          ]
        }
      ],
      "source": [
        "import pandas as pd\n",
        "import re\n",
        "\n",
        "# Load the message as a pandas Series\n",
        "message = pd.read_csv(\"https://www.dropbox.com/s/lgpn3vmksk3ssdo/scrambled_message.txt?dl=1\")['Word']\n",
        "\n",
        "# 1. Remove any spaces before or after each word.\n",
        "message = message.apply(lambda x: x.strip())\n",
        "\n",
        "# 2. Any time you see the word \"ugh\", with any number of h's, followed by a punctuation mark, delete this.\n",
        "message = message.apply(lambda x: re.sub(r'ugh+h[.,!?]', '', x))\n",
        "\n",
        "# 3. No word should be longer than 16 characters. Drop all extra characters beyond 13 off the end of each word.\n",
        "message = message.apply(lambda x: x[:16])\n",
        "\n",
        "# 4. Replace all instances of exactly 2 a's with exactly 2 e's.\n",
        "message = message.apply(lambda x: re.sub(r'(a{2})', 'ee', x))\n",
        "\n",
        "# 5. Replace all z's with t's.\n",
        "message = message.apply(lambda x: x.replace('z', 't'))\n",
        "\n",
        "# 6. Every word that ends in b, change that to a y. (Including words with punctuation at the end).\n",
        "message = message.apply(lambda x: re.sub(r'b(\\W?)$', r'y\\1', x))\n",
        "\n",
        "# 7. Every word that starts with k, change that to a v. (Take care of capitalization too).\n",
        "message = message.apply(lambda x: re.sub(r'\\bk', 'v', x, flags=re.IGNORECASE))\n",
        "\n",
        "# 8. Use .join() to recombine all your words into a message.\n",
        "decoded_message = ' '.join(message)\n",
        "\n",
        "# Print the decoded message\n",
        "print(f\"Decoded Message: {decoded_message}\")"
      ]
    },
    {
      "cell_type": "code",
      "execution_count": null,
      "metadata": {},
      "outputs": [],
      "source": []
    }
  ],
  "metadata": {
    "colab": {
      "provenance": []
    },
    "kernelspec": {
      "display_name": "Python 3",
      "language": "python",
      "name": "python3"
    },
    "language_info": {
      "name": "python"
    }
  },
  "nbformat": 4,
  "nbformat_minor": 0
}
