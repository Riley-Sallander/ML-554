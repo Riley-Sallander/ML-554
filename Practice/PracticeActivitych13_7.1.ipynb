{
 "cells": [
  {
   "cell_type": "code",
   "execution_count": 5,
   "metadata": {},
   "outputs": [],
   "source": [
    "import pandas as pd\n",
    "import numpy as np\n",
    "from sklearn.pipeline import Pipeline\n",
    "from sklearn.preprocessing import StandardScaler, OneHotEncoder, PolynomialFeatures\n",
    "from sklearn.linear_model import LinearRegression\n",
    "from sklearn.model_selection import train_test_split\n",
    "from sklearn.metrics import r2_score, mean_squared_error\n",
    "from sklearn.compose import ColumnTransformer\n",
    "from sklearn.model_selection import cross_val_score\n",
    "\n",
    "ames = pd.read_csv('/Users/rileysallander/Desktop/ML/ML554/Data/AmesHousing.csv')\n",
    "X = ames[[\"Gr Liv Area\", \"TotRms AbvGrd\"]]\n",
    "y = ames[\"SalePrice\"]\n",
    "\n",
    "X_train, X_test, y_train, y_test = train_test_split(X,y, test_size=0.25)\n",
    "\n",
    "lr_pipeline = Pipeline([\n",
    "  (\"linear_regression\", LinearRegression())]\n",
    ")\n",
    "\n",
    "lr_pipeline\n",
    "\n",
    "mod1=lr_pipeline.fit(X_train,y_train)\n",
    "\n"
   ]
  },
  {
   "cell_type": "code",
   "execution_count": null,
   "metadata": {},
   "outputs": [],
   "source": [
    "\n",
    "\n",
    "X2 = ames[[\"Gr Liv Area\", \"TotRms AbvGrd\",\"Bldg Type\"]]\n",
    "y2 = ames[\"SalePrice\"]\n",
    "\n",
    "X2_train, X2_test, y2_train, y2_test = train_test_split(X2,y2, test_size=0.25)\n",
    "\n",
    "\n",
    "\n",
    "ct = ColumnTransformer(\n",
    "  [\n",
    "    (\"dummify\", OneHotEncoder(sparse_output = False), [\"Bldg Type\"]),\n",
    "    (\"standardize\", StandardScaler(), [\"Gr Liv Area\", \"TotRms AbvGrd\"])\n",
    "  ],\n",
    "  remainder = \"passthrough\"\n",
    ").set_output(transform = \"pandas\")\n",
    "\n",
    "\n",
    "ct_inter = ColumnTransformer(\n",
    "  [\n",
    "    (\"interaction\", PolynomialFeatures(interaction_only = True), [\"Gr Liv Area\", \"TotRms AbvGrd\"])\n",
    "  ],\n",
    "  remainder = \"drop\"\n",
    ").set_output(transform = \"pandas\")\n",
    "\n",
    "\n",
    "\n",
    "lr_pipeline2 = Pipeline([(\"preprocessing\",ct),(\"linear_regression\", LinearRegression())])\n",
    "\n",
    "mod2 = lr_pipeline2.fit(X2_train,y2_train)\n",
    "\n",
    "\n"
   ]
  },
  {
   "cell_type": "code",
   "execution_count": 10,
   "metadata": {},
   "outputs": [],
   "source": [
    "X3 = ames[[\"Gr Liv Area\", \"Bldg Type\"]]\n",
    "y3 = ames[\"SalePrice\"]\n",
    "\n",
    "X3_train, X3_test, y3_train, y3_test = train_test_split(X3,y3, test_size=0.25)\n",
    "\n",
    "\n",
    "ct2 = ColumnTransformer(\n",
    "  [\n",
    "    (\"dummify\", OneHotEncoder(sparse_output = False), [\"Bldg Type\"]),\n",
    "    (\"standardize\", StandardScaler(), [\"Gr Liv Area\"])\n",
    "  ],\n",
    "  remainder = \"passthrough\"\n",
    ").set_output(transform = \"pandas\")\n",
    "\n",
    "\n",
    "ct_inter = ColumnTransformer(\n",
    "  [\n",
    "    (\"interaction 1fm\", PolynomialFeatures(interaction_only = True), [\"standardize__Gr Liv Area\", \"dummify__Bldg Type_1Fam\"]),\n",
    "    (\"interaction 2fm\", PolynomialFeatures(interaction_only = True), [\"standardize__Gr Liv Area\", \"dummify__Bldg Type_2fmCon\"]),\n",
    "    (\"interaction dup\", PolynomialFeatures(interaction_only = True), [\"standardize__Gr Liv Area\", \"dummify__Bldg Type_Duplex\"]),\n",
    "    (\"interaction twnhE\", PolynomialFeatures(interaction_only = True), [\"standardize__Gr Liv Area\", \"dummify__Bldg Type_TwnhsE\"]),\n",
    "    (\"interaction twnhs\", PolynomialFeatures(interaction_only = True), [\"standardize__Gr Liv Area\", \"dummify__Bldg Type_Twnhs\"]),\n",
    "  ],\n",
    "  remainder = \"passthrough\"\n",
    ").set_output(transform = \"pandas\")\n",
    "\n",
    "lr_pipeline3 = Pipeline([(\"preprocessing\",ct2),(\"interact\",ct_inter),(\"linear_regression\", LinearRegression())])\n",
    "\n",
    "mod3 = lr_pipeline3.fit(X3_train,y3_train)\n"
   ]
  },
  {
   "cell_type": "code",
   "execution_count": 12,
   "metadata": {},
   "outputs": [],
   "source": [
    "\n",
    "\n",
    "\n",
    "X2 = ames[[\"Gr Liv Area\", \"TotRms AbvGrd\", \"Bldg Type\"]]\n",
    "y2 = ames[\"SalePrice\"]\n",
    "X2_train, X2_test, y2_train, y2_test = train_test_split(X2, y2, test_size=0.25)\n",
    "\n",
    "\n",
    "ct = ColumnTransformer(\n",
    "    [\n",
    "        (\"poly_area\", PolynomialFeatures(degree=5, include_bias=False), [\"Gr Liv Area\"]),\n",
    "        (\"poly_rooms\", PolynomialFeatures(degree=5, include_bias=False), [\"TotRms AbvGrd\"]),\n",
    "        (\"dummify\", OneHotEncoder(sparse_output=False), [\"Bldg Type\"])\n",
    "    ],\n",
    "    remainder=\"passthrough\"\n",
    ").set_output(transform=\"pandas\")\n",
    "\n",
    "# Define the pipeline with preprocessing and linear regression\n",
    "lr_pipeline4 = Pipeline([\n",
    "    (\"preprocessing\", ct),\n",
    "    (\"linear_regression\", LinearRegression())\n",
    "])\n",
    "\n",
    "# Fit the model\n",
    "mod2 = lr_pipeline4.fit(X2_train, y2_train)\n"
   ]
  },
  {
   "cell_type": "code",
   "execution_count": 13,
   "metadata": {},
   "outputs": [
    {
     "name": "stdout",
     "output_type": "stream",
     "text": [
      "Cross-validated RMSE for the model: 55806.32634926364\n",
      "Cross-validated RMSE for the model: 55806.32634926364\n"
     ]
    },
    {
     "name": "stdout",
     "output_type": "stream",
     "text": [
      "Cross-validated RMSE for the model: 56303.4848404074\n",
      "Cross-validated RMSE for the model: 56303.4848404074\n"
     ]
    },
    {
     "name": "stdout",
     "output_type": "stream",
     "text": [
      "Cross-validated RMSE for the model: 53438.15076429967\n",
      "Cross-validated RMSE for the model: 53438.15076429967\n"
     ]
    },
    {
     "name": "stdout",
     "output_type": "stream",
     "text": [
      "Cross-validated RMSE for the model: 56303.4848404074\n",
      "Cross-validated RMSE for the model: 56303.4848404074\n"
     ]
    }
   ],
   "source": [
    "cv_scores = cross_val_score(lr_pipeline, X, y, \n",
    "                            cv=5, scoring=\"neg_mean_squared_error\")\n",
    "\n",
    "rmse_scores = np.sqrt(-cv_scores)\n",
    "\n",
    "average_rmse = rmse_scores.mean()\n",
    "print(\"Cross-validated RMSE for the model:\", average_rmse)\n",
    "\n",
    "cv_scores = cross_val_score(lr_pipeline2, X2, y2, \n",
    "                            cv=5, scoring=\"neg_mean_squared_error\")\n",
    "\n",
    "rmse_scores = np.sqrt(-cv_scores)\n",
    "\n",
    "average_rmse = rmse_scores.mean()\n",
    "print(\"Cross-validated RMSE for the model:\", average_rmse)\n",
    "\n",
    "\n",
    "cv_scores = cross_val_score(lr_pipeline3, X3, y3, \n",
    "                            cv=5, scoring=\"neg_mean_squared_error\")\n",
    "\n",
    "rmse_scores = np.sqrt(-cv_scores)\n",
    "\n",
    "average_rmse = rmse_scores.mean()\n",
    "print(\"Cross-validated RMSE for the model:\", average_rmse)\n",
    "\n",
    "\n",
    "cv_scores = cross_val_score(lr_pipeline4, X2, y2, \n",
    "                            cv=5, scoring=\"neg_mean_squared_error\")\n",
    "\n",
    "rmse_scores = np.sqrt(-cv_scores)\n",
    "\n",
    "average_rmse = rmse_scores.mean()\n",
    "print(\"Cross-validated RMSE for the model:\", average_rmse)"
   ]
  },
  {
   "cell_type": "code",
   "execution_count": 14,
   "metadata": {},
   "outputs": [
    {
     "name": "stdout",
     "output_type": "stream",
     "text": [
      "Best model: Pipeline(steps=[('preprocessing',\n",
      "                 ColumnTransformer(remainder='passthrough',\n",
      "                                   transformers=[('poly_area',\n",
      "                                                  PolynomialFeatures(degree=4,\n",
      "                                                                     include_bias=False),\n",
      "                                                  ['Gr Liv Area']),\n",
      "                                                 ('poly_rooms',\n",
      "                                                  PolynomialFeatures(include_bias=False),\n",
      "                                                  ['TotRms AbvGrd']),\n",
      "                                                 ('dummify',\n",
      "                                                  OneHotEncoder(sparse_output=False),\n",
      "                                                  ['Bldg Type'])])),\n",
      "                ('linear_regression', LinearRegression())])\n",
      "Best cross-validated RMSE: 52436.09262638116\n",
      "Best model: Pipeline(steps=[('preprocessing',\n",
      "                 ColumnTransformer(remainder='passthrough',\n",
      "                                   transformers=[('poly_area',\n",
      "                                                  PolynomialFeatures(degree=4,\n",
      "                                                                     include_bias=False),\n",
      "                                                  ['Gr Liv Area']),\n",
      "                                                 ('poly_rooms',\n",
      "                                                  PolynomialFeatures(include_bias=False),\n",
      "                                                  ['TotRms AbvGrd']),\n",
      "                                                 ('dummify',\n",
      "                                                  OneHotEncoder(sparse_output=False),\n",
      "                                                  ['Bldg Type'])])),\n",
      "                ('linear_regression', LinearRegression())])\n",
      "Best cross-validated RMSE: 52436.09262638116\n"
     ]
    }
   ],
   "source": [
    " from sklearn.model_selection import GridSearchCV\n",
    "\n",
    "# Define the parameter grid for degrees\n",
    "param_grid = {\n",
    "    'preprocessing__poly_area__degree': range(1, 11),   # Degrees 1 to 10 for Gr Liv Area\n",
    "    'preprocessing__poly_rooms__degree': range(1, 11),  # Degrees 1 to 10 for TotRms AbvGrd\n",
    "}\n",
    "\n",
    "# Set up GridSearchCV with the pipeline and parameter grid\n",
    "grid_search = GridSearchCV(lr_pipeline2, param_grid, cv=5, scoring=\"neg_mean_squared_error\", n_jobs=-1)\n",
    "grid_search.fit(X2_train, y2_train)\n",
    "\n",
    "# Get the best model and its performance\n",
    "best_model = grid_search.best_estimator_\n",
    "best_rmse = np.sqrt(-grid_search.best_score_)\n",
    "print(\"Best model:\", best_model)\n",
    "print(\"Best cross-validated RMSE:\", best_rmse)\n"
   ]
  }
 ],
 "metadata": {
  "language_info": {
   "name": "python"
  }
 },
 "nbformat": 4,
 "nbformat_minor": 2
}
