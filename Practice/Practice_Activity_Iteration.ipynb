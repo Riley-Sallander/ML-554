{
  "cells": [
    {
      "cell_type": "markdown",
      "metadata": {
        "id": "8p1mF9p_njvq"
      },
      "source": [
        "0. Load the `penguins` dataset from the `palmerpenguins` library, as well as any other libraries you need.\n",
        "\n"
      ]
    },
    {
      "cell_type": "code",
      "execution_count": 19,
      "metadata": {
        "id": "B0wyLoBRngwh"
      },
      "outputs": [],
      "source": [
        "# %pip install palmerpenguins\n",
        "from palmerpenguins import load_penguins\n",
        "penguins = load_penguins()"
      ]
    },
    {
      "cell_type": "markdown",
      "metadata": {
        "id": "LUURcsjcnrA3"
      },
      "source": [
        "1. Write a function that takes in information about a penguin, and returns one of the following definitions:\n",
        "\n",
        "*   \"Big Mouth Billy\": Male penguins with bill length times bill depth greater than 800.\n",
        "*   \"Dainty Daisy\": Female penguins with flipper length less than 5% of body mass.\n",
        "*   \"Average Adelie:\" Any Adelie penguins that do not fall into either category.\n",
        "*   \"Other\": Any penguins that do not fall into any of the categories.\n",
        "\n"
      ]
    },
    {
      "cell_type": "code",
      "execution_count": 27,
      "metadata": {
        "id": "udKVPIJmpKG_"
      },
      "outputs": [],
      "source": [
        "\n",
        "def penguinType (sex, bill_length_mm,bill_depth_mm, flipper_length_mm, body_mass_g,species):\n",
        "\n",
        "\n",
        "    # Check for \"Big Mouth Billy\"\n",
        "    if sex == 'male' and bill_length_mm*bill_depth_mm > 800:\n",
        "        return \"Big Mouth Billy\"\n",
        "\n",
        "    # Check for \"Dainty Daisy\"\n",
        "    elif sex == 'female' and flipper_length_mm/body_mass_g < 0.05:\n",
        "        return \"Dainty Daisy\"\n",
        "\n",
        "    # Check for \"Average Adelie\"\n",
        "    elif species == 'Adelie':\n",
        "        return \"Average Adelie\"\n",
        "\n",
        "    # If none of the above, categorize as \"Other\"\n",
        "    else:\n",
        "        return \"Other\"\n"
      ]
    },
    {
      "cell_type": "markdown",
      "metadata": {
        "id": "L3cOiPwJo_q5"
      },
      "source": [
        "2. Use an iterable function to create a new variable called `category_name` that adds these labels."
      ]
    },
    {
      "cell_type": "code",
      "execution_count": 28,
      "metadata": {
        "id": "AJk_DHBDpKvV"
      },
      "outputs": [],
      "source": [
        "\n",
        "penguins['category_name'] = penguins.apply(lambda row: penguinType(\n",
        "        species=row['species'],\n",
        "        sex=row['sex'],\n",
        "        bill_length_mm=row['bill_length_mm'],\n",
        "        bill_depth_mm=row['bill_depth_mm'],\n",
        "        flipper_length_mm=row['flipper_length_mm'],\n",
        "        body_mass_g=row['body_mass_g']\n",
        "    ), axis=1) "
      ]
    },
    {
      "cell_type": "markdown",
      "metadata": {
        "id": "wzjur3hzpLxr"
      },
      "source": [
        "3. Run the following code to find the counts for each type."
      ]
    },
    {
      "cell_type": "code",
      "execution_count": 29,
      "metadata": {
        "id": "iDHDAKOXpPOm"
      },
      "outputs": [
        {
          "data": {
            "text/plain": [
              "category_name\n",
              "Average Adelie     127\n",
              "Other               84\n",
              "Big Mouth Billy     71\n",
              "Dainty Daisy        62\n",
              "Name: count, dtype: int64"
            ]
          },
          "execution_count": null,
          "metadata": {},
          "output_type": "execute_result"
        }
      ],
      "source": [
        "penguins.value_counts(\"category_name\")"
      ]
    }
  ],
  "metadata": {
    "colab": {
      "provenance": []
    },
    "kernelspec": {
      "display_name": "Python 3",
      "name": "python3"
    },
    "language_info": {
      "name": "python"
    }
  },
  "nbformat": 4,
  "nbformat_minor": 0
}
